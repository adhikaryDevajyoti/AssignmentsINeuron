{
 "cells": [
  {
   "cell_type": "markdown",
   "id": "6e30193a",
   "metadata": {},
   "source": [
    "1. Write a Python program to convert kilometers to miles?\n",
    "2. Write a Python program to convert Celsius to Fahrenheit?\n",
    "3. Write a Python program to display calendar?\n",
    "4. Write a Python program to solve quadratic equation?\n",
    "5. Write a Python program to swap two variables without temp variable?"
   ]
  },
  {
   "cell_type": "code",
   "execution_count": 9,
   "id": "1f170bfd",
   "metadata": {},
   "outputs": [
    {
     "name": "stdout",
     "output_type": "stream",
     "text": [
      "enter kilometre distance2\n",
      "2 km is equivalent to :  1.2 miles\n"
     ]
    }
   ],
   "source": [
    "# 1. Write a Python program to convert kilometers to miles?\n",
    "\n",
    "# 1km = 0.621371miles\n",
    "\n",
    "varKM = int(input(\"enter kilometre distance\"))\n",
    "varMiles = round(varKM * 0.62137,1)\n",
    "print(varKM,\"km is equivalent to : \",varMiles,\"miles\")"
   ]
  },
  {
   "cell_type": "code",
   "execution_count": 13,
   "id": "bf75dc1c",
   "metadata": {},
   "outputs": [
    {
     "name": "stdout",
     "output_type": "stream",
     "text": [
      "Enter the celsisus value : 5\n",
      "Farhenheit :  41.0\n"
     ]
    }
   ],
   "source": [
    "# 2. Write a Python program to convert Celsius to Fahrenheit?\n",
    "# c/5 = (f-32)/9\n",
    "\n",
    "varCelsius = float(input(\"Enter the celsisus value : \"))\n",
    "varFarhen = ((9*varCelsius)/5)+32\n",
    "print(\"Farhenheit : \",varFarhen)\n"
   ]
  },
  {
   "cell_type": "code",
   "execution_count": 23,
   "id": "edb659bd",
   "metadata": {},
   "outputs": [
    {
     "name": "stdout",
     "output_type": "stream",
     "text": [
      "Enter Year 1\n",
      "Enter Month 1\n",
      "     January 1\n",
      "Mo Tu We Th Fr Sa Su\n",
      " 1  2  3  4  5  6  7\n",
      " 8  9 10 11 12 13 14\n",
      "15 16 17 18 19 20 21\n",
      "22 23 24 25 26 27 28\n",
      "29 30 31\n",
      "\n"
     ]
    }
   ],
   "source": [
    "# 3. Write a Python program to display calendar?\n",
    "\n",
    "import calendar as cal\n",
    "\n",
    "varYear = int(input(\"Enter Year \"))\n",
    "varMonth = int(input(\"Enter Month \"))\n",
    "if ((varMonth >= 12) | (varMonth <= 0)):\n",
    "    print(\"enter valid month\")\n",
    "else:\n",
    "    print(cal.month(varYear,varMonth))"
   ]
  },
  {
   "cell_type": "code",
   "execution_count": 26,
   "id": "d011860f",
   "metadata": {},
   "outputs": [
    {
     "name": "stdout",
     "output_type": "stream",
     "text": [
      "Enter the A co-efficient :1\n",
      "Enter the B co-efficient :-5\n",
      "Enter the C co-efficient :6\n",
      "The 1st root is :  -2.0\n",
      "The 2nd root is :  3.0\n"
     ]
    }
   ],
   "source": [
    "# Write a Python program to solve quadratic equation?\n",
    "\n",
    "import math as math\n",
    "varA = float(input(\"Enter the A co-efficient :\"))\n",
    "varB = float(input(\"Enter the B co-efficient :\"))\n",
    "varC = float(input(\"Enter the C co-efficient :\"))\n",
    "varBSquare = varB**2\n",
    "varMid = varBSquare - 4*varA*varC\n",
    "varMid = math.sqrt(varMid)\n",
    "varX = (varMid+varB)/2*varA\n",
    "varY = (varMid-varB)/2*varA\n",
    "print(\"The 1st root is : \",varX)\n",
    "print(\"The 2nd root is : \",varY)"
   ]
  },
  {
   "cell_type": "code",
   "execution_count": 27,
   "id": "7aad0616",
   "metadata": {},
   "outputs": [
    {
     "name": "stdout",
     "output_type": "stream",
     "text": [
      "enter the 1st number 20\n",
      "enter the 2nd number 30\n",
      "value of 1st is  30\n",
      "value of 2nd is  20\n"
     ]
    }
   ],
   "source": [
    "# 5. Write a Python program to swap two variables without temp variable?\n",
    "\n",
    "a = int(input(\"enter the 1st number \"))\n",
    "b = int(input(\"enter the 2nd number \"))\n",
    "a = a+b\n",
    "b = a-b\n",
    "a = a-b\n",
    "print(\"value of 1st is \", a)\n",
    "print(\"value of 2nd is \", b)"
   ]
  },
  {
   "cell_type": "code",
   "execution_count": null,
   "id": "06fd9a2d",
   "metadata": {},
   "outputs": [],
   "source": []
  }
 ],
 "metadata": {
  "kernelspec": {
   "display_name": "Python 3 (ipykernel)",
   "language": "python",
   "name": "python3"
  },
  "language_info": {
   "codemirror_mode": {
    "name": "ipython",
    "version": 3
   },
   "file_extension": ".py",
   "mimetype": "text/x-python",
   "name": "python",
   "nbconvert_exporter": "python",
   "pygments_lexer": "ipython3",
   "version": "3.9.13"
  }
 },
 "nbformat": 4,
 "nbformat_minor": 5
}
