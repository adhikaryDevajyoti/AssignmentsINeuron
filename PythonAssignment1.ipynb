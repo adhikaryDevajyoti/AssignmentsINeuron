{
 "cells": [
  {
   "cell_type": "markdown",
   "id": "b681b81e",
   "metadata": {},
   "source": [
    "1. In the below elements which of them are values or an expression? eg:- values can be\n",
    "integer or string and expressions will be mathematical operators.\n",
    "*\n",
    "&#39;hello&#39;\n",
    "-87.8\n",
    "-\n",
    "/\n",
    "+\n",
    "6"
   ]
  },
  {
   "cell_type": "markdown",
   "id": "1f4cbfe5",
   "metadata": {},
   "source": [
    "In the above questions"
   ]
  },
  {
   "cell_type": "markdown",
   "id": "d7ebf09d",
   "metadata": {},
   "source": [
    "*, -,/,+ are the expression.\n",
    "'hello' is the string\n",
    "-87.8 is a float\n",
    "6 is an integer"
   ]
  },
  {
   "cell_type": "markdown",
   "id": "9bf62e67",
   "metadata": {},
   "source": [
    "What is the difference between string and variable?\n",
    "\n",
    "Solution:"
   ]
  },
  {
   "cell_type": "markdown",
   "id": "5740067c",
   "metadata": {},
   "source": [
    "String is datatype which is a combination of characters, wheras variable can be of any datatype integer,float,boolean,complex or string."
   ]
  },
  {
   "cell_type": "markdown",
   "id": "608af884",
   "metadata": {},
   "source": [
    "3. Describe three different data types."
   ]
  },
  {
   "cell_type": "markdown",
   "id": "46d1e229",
   "metadata": {},
   "source": [
    "The three different data types are float,integer and complex. FLoat datatype can take decimal value. Integer can't take decimal numbers but only integers. Complex datatype can take imaginary numbers.\n"
   ]
  },
  {
   "cell_type": "code",
   "execution_count": 1,
   "id": "d2de4c60",
   "metadata": {},
   "outputs": [
    {
     "name": "stdout",
     "output_type": "stream",
     "text": [
      "Object `do` not found.\n"
     ]
    }
   ],
   "source": [
    "4. What is an expression made up of? What do all expressions do?"
   ]
  },
  {
   "cell_type": "code",
   "execution_count": null,
   "id": "2a9f097d",
   "metadata": {},
   "outputs": [],
   "source": [
    "4. What is an expression made up of? What do all expressions do"
   ]
  },
  {
   "cell_type": "markdown",
   "id": "a21673cd",
   "metadata": {},
   "source": [
    "Expression is a combination of operators and operands. Expression is used for logical and arithmetical operation."
   ]
  },
  {
   "cell_type": "markdown",
   "id": "1e282e0e",
   "metadata": {},
   "source": [
    "5. This assignment statements, like spam = 10. What is the difference between an\n",
    "expression and a statement?\n",
    "\n",
    "statement is a combination of variables and expressions. Expressions is the combination of logical and arithmetical operators.\n"
   ]
  },
  {
   "cell_type": "code",
   "execution_count": null,
   "id": "eefffbcc",
   "metadata": {},
   "outputs": [],
   "source": []
  }
 ],
 "metadata": {
  "kernelspec": {
   "display_name": "Python 3 (ipykernel)",
   "language": "python",
   "name": "python3"
  },
  "language_info": {
   "codemirror_mode": {
    "name": "ipython",
    "version": 3
   },
   "file_extension": ".py",
   "mimetype": "text/x-python",
   "name": "python",
   "nbconvert_exporter": "python",
   "pygments_lexer": "ipython3",
   "version": "3.9.13"
  }
 },
 "nbformat": 4,
 "nbformat_minor": 5
}
