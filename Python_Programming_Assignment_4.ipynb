{
 "cells": [
  {
   "cell_type": "code",
   "execution_count": 13,
   "id": "9d8659cc",
   "metadata": {},
   "outputs": [
    {
     "name": "stdout",
     "output_type": "stream",
     "text": [
      "Enter a number for factorial : 4\n",
      "factorial : 24\n"
     ]
    }
   ],
   "source": [
    "# 1. Write a Python Program to Find the Factorial of a Number?\n",
    "varNo = int(input('Enter a number for factorial : '))\n",
    "varProduct = 1\n",
    "for i in range(1,varNo+1):\n",
    "    varProduct = varProduct*i\n",
    "print(\"factorial :\",varProduct)"
   ]
  },
  {
   "cell_type": "code",
   "execution_count": 12,
   "id": "33b0e6ec",
   "metadata": {},
   "outputs": [
    {
     "name": "stdout",
     "output_type": "stream",
     "text": [
      "enter a number : 3\n",
      "Multiplication table of :  3\n",
      "3 * 1 = 3\n",
      "3 * 2 = 6\n",
      "3 * 3 = 9\n",
      "3 * 4 = 12\n",
      "3 * 5 = 15\n",
      "3 * 6 = 18\n",
      "3 * 7 = 21\n",
      "3 * 8 = 24\n",
      "3 * 9 = 27\n",
      "3 * 10 = 30\n"
     ]
    }
   ],
   "source": [
    "# 2. Write a Python Program to Display the multiplication Table?\n",
    "\n",
    "varNo = int(input('enter a number : '))\n",
    "print(\"Multiplication table of : \",varNo)\n",
    "for i in range(1,11):\n",
    "    print(varNo,'*',i,'=',varNo*i)"
   ]
  },
  {
   "cell_type": "code",
   "execution_count": 15,
   "id": "fb2d7d6a",
   "metadata": {},
   "outputs": [
    {
     "name": "stdout",
     "output_type": "stream",
     "text": [
      "Enter the number of Sequences : 11\n",
      "1\n",
      "2\n",
      "3\n",
      "5\n",
      "8\n",
      "13\n",
      "21\n",
      "34\n",
      "55\n",
      "89\n",
      "144\n"
     ]
    }
   ],
   "source": [
    "# 3. Write a Python Program to Print the Fibonacci sequence?\n",
    "\n",
    "varNo = int(input(\"Enter the number of Sequences : \"))\n",
    "varNO1 = 0\n",
    "varNO2 = 1\n",
    "varSum = 0\n",
    "for i in range(1,varNo+1):\n",
    "    varSum = varNO1+varNO2\n",
    "    varNO1 = varNO2\n",
    "    varNO2 = varSum\n",
    "    print(varSum)"
   ]
  },
  {
   "cell_type": "code",
   "execution_count": 21,
   "id": "fb4f6ff4",
   "metadata": {},
   "outputs": [
    {
     "name": "stdout",
     "output_type": "stream",
     "text": [
      "Enter a number371\n",
      "Armstrong Number\n"
     ]
    }
   ],
   "source": [
    "# 4. Write a Python Program to Check Armstrong Number?\n",
    "\n",
    "varNo = int(input(\"Enter a number\"))\n",
    "varCopy = varNo\n",
    "Product = 0\n",
    "while(varCopy!=0):\n",
    "    var = varCopy%10\n",
    "    varCopy = int(varCopy/10)\n",
    "    Product = Product + var**3\n",
    "\n",
    "if(Product==varNo):\n",
    "    print(\"Armstrong Number\")\n",
    "else:\n",
    "    print(\"Not Armstrong Number\")"
   ]
  },
  {
   "cell_type": "code",
   "execution_count": 4,
   "id": "032e3670",
   "metadata": {},
   "outputs": [
    {
     "name": "stdout",
     "output_type": "stream",
     "text": [
      "Armstrong number :  1\n",
      "Armstrong number :  153\n",
      "Armstrong number :  370\n",
      "Armstrong number :  371\n",
      "Armstrong number :  407\n"
     ]
    }
   ],
   "source": [
    "# Write a Python Program to Find Armstrong Number in an Interval?\n",
    "\n",
    "def armstrongNumber(varNo):\n",
    "    varCopy = varNo\n",
    "    Product = 0\n",
    "    while(varCopy!=0):\n",
    "        var = varCopy%10\n",
    "        varCopy = int(varCopy/10)\n",
    "        Product = Product + var**3\n",
    "\n",
    "    if(Product==varNo):\n",
    "        return 1\n",
    "    else:\n",
    "        return 0\n",
    "\n",
    "for i in range(1,10000000+1):\n",
    "    varCheck = armstrongNumber(i)\n",
    "    if (varCheck == 1):\n",
    "        print(\"Armstrong number : \",i)\n",
    "    "
   ]
  },
  {
   "cell_type": "code",
   "execution_count": 6,
   "id": "2085b0e8",
   "metadata": {},
   "outputs": [
    {
     "name": "stdout",
     "output_type": "stream",
     "text": [
      "enter the Range : 10000\n",
      "Sum :  50005000\n"
     ]
    }
   ],
   "source": [
    "# 6. Write a Python Program to Find the Sum of Natural Numbers?\n",
    "\n",
    "varNumber = int(input(\"enter the Range : \"))\n",
    "varSum = 0\n",
    "for i in range(1,varNumber+1):\n",
    "    varSum = varSum+i\n",
    "print(\"Sum : \",varSum)"
   ]
  },
  {
   "cell_type": "code",
   "execution_count": null,
   "id": "0c3b6904",
   "metadata": {},
   "outputs": [],
   "source": []
  }
 ],
 "metadata": {
  "kernelspec": {
   "display_name": "Python 3 (ipykernel)",
   "language": "python",
   "name": "python3"
  },
  "language_info": {
   "codemirror_mode": {
    "name": "ipython",
    "version": 3
   },
   "file_extension": ".py",
   "mimetype": "text/x-python",
   "name": "python",
   "nbconvert_exporter": "python",
   "pygments_lexer": "ipython3",
   "version": "3.9.13"
  }
 },
 "nbformat": 4,
 "nbformat_minor": 5
}
